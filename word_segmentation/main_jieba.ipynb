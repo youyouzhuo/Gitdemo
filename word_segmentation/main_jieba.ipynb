{
 "cells": [
  {
   "cell_type": "markdown",
   "id": "d7ac675a-44d4-484d-93aa-8e9e865f1d80",
   "metadata": {},
   "source": [
    "# 结巴分词实践"
   ]
  },
  {
   "cell_type": "markdown",
   "id": "9d68008f-d2b9-4deb-8868-c8c7afb3dcbb",
   "metadata": {},
   "source": [
    "## 结巴分词的三种模式"
   ]
  },
  {
   "cell_type": "markdown",
   "id": "1405f19f-3a40-4cab-9265-36b1ab7387e3",
   "metadata": {},
   "source": [
    "### 精确模式"
   ]
  },
  {
   "cell_type": "code",
   "execution_count": 3,
   "id": "b1de31c6-e9b2-42a0-8c82-6c45350bdcf5",
   "metadata": {},
   "outputs": [
    {
     "name": "stderr",
     "output_type": "stream",
     "text": [
      "Building prefix dict from the default dictionary ...\n",
      "Dumping model to file cache C:\\Users\\EXAMINE\\AppData\\Local\\Temp\\jieba.cache\n",
      "Loading model cost 0.388 seconds.\n",
      "Prefix dict has been built successfully.\n"
     ]
    },
    {
     "name": "stdout",
     "output_type": "stream",
     "text": [
      "精确模式结果：我/来到/北京/清华大学\n"
     ]
    }
   ],
   "source": [
    "import jieba\n",
    "\n",
    "text = \"我来到北京清华大学\"\n",
    "seg_list = jieba.cut(text, cut_all=False)\n",
    "print(\"精确模式结果：\" + \"/\".join(seg_list))"
   ]
  },
  {
   "cell_type": "markdown",
   "id": "824cbe9c-a0c0-4a33-ba04-a1f4b8206776",
   "metadata": {},
   "source": [
    "### 全模式"
   ]
  },
  {
   "cell_type": "code",
   "execution_count": 4,
   "id": "0f2c42db-26be-4616-91e5-933adf141d6d",
   "metadata": {},
   "outputs": [
    {
     "name": "stdout",
     "output_type": "stream",
     "text": [
      "全模式结果：我/来到/北京/清华/清华大学/华大/大学\n"
     ]
    }
   ],
   "source": [
    "seg_list = jieba.cut(text, cut_all=True)\n",
    "print(\"全模式结果：\" + \"/\".join(seg_list))"
   ]
  },
  {
   "cell_type": "markdown",
   "id": "cd09c778-2e62-44bc-b401-a9cba1957f40",
   "metadata": {},
   "source": [
    "### 搜索引擎模式"
   ]
  },
  {
   "cell_type": "code",
   "execution_count": 5,
   "id": "077ad4b9-ed39-4949-9c03-ce1a787d76f2",
   "metadata": {},
   "outputs": [
    {
     "name": "stdout",
     "output_type": "stream",
     "text": [
      "搜索引擎模式结果：小明, 硕士, 毕业, 于, 中国, 科学, 学院, 科学院, 中国科学院, 计算, 计算所, ，, 后, 在, 日本, 京都, 大学, 日本京都大学, 深造\n"
     ]
    }
   ],
   "source": [
    "search_text = \"小明硕士毕业于中国科学院计算所，后在日本京都大学深造\"\n",
    "seg_list = jieba.cut_for_search(search_text)\n",
    "print(\"搜索引擎模式结果：\" + \", \".join(seg_list))"
   ]
  },
  {
   "cell_type": "markdown",
   "id": "1aef7a13-ba60-419b-8a62-555fec3b7441",
   "metadata": {},
   "source": [
    "自定义词典"
   ]
  },
  {
   "cell_type": "code",
   "execution_count": 8,
   "id": "a5984b20-1df0-44b3-a2a5-8005e1ab7618",
   "metadata": {},
   "outputs": [
    {
     "name": "stdout",
     "output_type": "stream",
     "text": [
      "DefaultvMode：王昕卓/即将/是/自然语言/处理/方面/的/高手\n"
     ]
    }
   ],
   "source": [
    "jieba.load_userdict(\"userdict.txt\")  \n",
    "seg_list = jieba.cut(\"王昕卓即将是自然语言处理方面的高手\",cut_all=False,HMM=False)\n",
    "print(\"DefaultvMode：\" + \"/\".join(seg_list))"
   ]
  }
 ],
 "metadata": {
  "kernelspec": {
   "display_name": "Python 3 (ipykernel)",
   "language": "python",
   "name": "python3"
  },
  "language_info": {
   "codemirror_mode": {
    "name": "ipython",
    "version": 3
   },
   "file_extension": ".py",
   "mimetype": "text/x-python",
   "name": "python",
   "nbconvert_exporter": "python",
   "pygments_lexer": "ipython3",
   "version": "3.9.21"
  }
 },
 "nbformat": 4,
 "nbformat_minor": 5
}
